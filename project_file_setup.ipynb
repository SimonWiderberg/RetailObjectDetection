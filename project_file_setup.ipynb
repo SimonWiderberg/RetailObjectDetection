{
 "cells": [
  {
   "cell_type": "code",
   "execution_count": 40,
   "id": "4b4d01d5",
   "metadata": {},
   "outputs": [
    {
     "name": "stdout",
     "output_type": "stream",
     "text": [
      "dict_keys(['info', 'licenses', 'categories', '__raw_Chinese_name_df', 'images', 'annotations'])\n"
     ]
    }
   ],
   "source": [
    "import json\n",
    "import pandas as pd\n",
    "\n",
    "json_file_path = 'instances_val2019.json'\n",
    "\n",
    "with open(json_file_path) as json_data:\n",
    "    data = json.load(json_data)\n",
    "\n",
    "print(data.keys())\n"
   ]
  },
  {
   "cell_type": "code",
   "execution_count": 41,
   "id": "2cfe3f7b",
   "metadata": {},
   "outputs": [
    {
     "name": "stdout",
     "output_type": "stream",
     "text": [
      "                      file_name  width  height     id level\n",
      "0     20180827-16-07-06-756.jpg   1850    1850    220  easy\n",
      "1     20180827-16-07-10-756.jpg   1840    1840    221  easy\n",
      "2     20180827-16-24-37-306.jpg   1826    1826    222  easy\n",
      "3     20180827-16-24-44-306.jpg   1829    1829    223  easy\n",
      "4     20180827-16-24-53-306.jpg   1826    1826    224  easy\n",
      "...                         ...    ...     ...    ...   ...\n",
      "5995  20181024-15-23-05-131.jpg   1813    1813  30609  hard\n",
      "5996  20181024-15-37-14-136.jpg   1821    1821  30613  hard\n",
      "5997  20181024-15-37-31-136.jpg   1832    1832  30614  hard\n",
      "5998  20181024-15-37-46-136.jpg   1830    1830  30615  hard\n",
      "5999  20181024-15-57-25-126.jpg   1808    1808  30616  hard\n",
      "\n",
      "[6000 rows x 5 columns]\n",
      "Index(['file_name', 'width', 'height', 'id', 'level'], dtype='object')\n"
     ]
    }
   ],
   "source": [
    "df = pd.DataFrame(data['images'])\n",
    "print(df)\n",
    "print(df.keys())"
   ]
  },
  {
   "cell_type": "code",
   "execution_count": 50,
   "id": "e39a6d4c",
   "metadata": {},
   "outputs": [
    {
     "name": "stdout",
     "output_type": "stream",
     "text": [
      "2000\n",
      "2000\n",
      "2000\n"
     ]
    }
   ],
   "source": [
    "import pandas as pd\n",
    "\n",
    "# Assuming your data is already loaded into a pandas DataFrame\n",
    "# For example, if you're reading the data from a CSV file, you can use:\n",
    "# df = pd.read_csv('your_file.csv')\n",
    "\n",
    "# For this example, let's assume `df` is your DataFrame\n",
    "# Filter for 'easy' level\n",
    "easy_images = df[df['level'] == 'easy']\n",
    "\n",
    "# Filter for 'medium' level\n",
    "medium_images = df[df['level'] == 'medium']\n",
    "\n",
    "# Filter for 'hard' level\n",
    "hard_images = df[df['level'] == 'hard']\n",
    "\n",
    "# Display the first few rows of each filtered DataFrame\n",
    "print(len(easy_images))\n",
    "print(len(medium_images))\n",
    "print(len(hard_images))\n"
   ]
  },
  {
   "cell_type": "code",
   "execution_count": 51,
   "id": "1acdf962",
   "metadata": {},
   "outputs": [
    {
     "name": "stdout",
     "output_type": "stream",
     "text": [
      "                      file_name  width  height     id level\n",
      "0     20180827-16-07-06-756.jpg   1850    1850    220  easy\n",
      "1     20180827-16-07-10-756.jpg   1840    1840    221  easy\n",
      "2     20180827-16-24-37-306.jpg   1826    1826    222  easy\n",
      "3     20180827-16-24-44-306.jpg   1829    1829    223  easy\n",
      "4     20180827-16-24-53-306.jpg   1826    1826    224  easy\n",
      "...                         ...    ...     ...    ...   ...\n",
      "5995  20181024-15-23-05-131.jpg   1813    1813  30609  hard\n",
      "5996  20181024-15-37-14-136.jpg   1821    1821  30613  hard\n",
      "5997  20181024-15-37-31-136.jpg   1832    1832  30614  hard\n",
      "5998  20181024-15-37-46-136.jpg   1830    1830  30615  hard\n",
      "5999  20181024-15-57-25-126.jpg   1808    1808  30616  hard\n",
      "\n",
      "[6000 rows x 5 columns]\n"
     ]
    }
   ],
   "source": [
    "images_df = pd.DataFrame(data['images'])\n",
    "print(images_df)"
   ]
  },
  {
   "cell_type": "code",
   "execution_count": 44,
   "id": "8d9f5828",
   "metadata": {},
   "outputs": [],
   "source": [
    "import os\n",
    "import shutil\n",
    "\n",
    "val2019_dir = 'val2019'\n",
    "\n",
    "for level in ['easy', 'medium', 'hard']:\n",
    "    level_dir = os.path.join(val2019_dir, level)\n",
    "    if not os.path.exists(level_dir):\n",
    "        os.makedirs(level_dir)\n",
    "\n",
    "# Move images to respective level folders\n",
    "for image_info in data['images']:\n",
    "    file_name = image_info['file_name']\n",
    "    level = image_info.get('level')  # Get the level ('easy', 'medium', or 'hard')\n",
    "\n",
    "    if level in ['easy', 'medium', 'hard']:\n",
    "        src = os.path.join(val2019_dir, file_name)\n",
    "        dest = os.path.join(val2019_dir, level, file_name)\n",
    "        \n",
    "        # Check if the image file exists before moving\n",
    "        if os.path.exists(src):\n",
    "            shutil.move(src, dest)\n",
    "        else:\n",
    "            print(f\"Image file {file_name} not found.\")\n"
   ]
  },
  {
   "cell_type": "code",
   "execution_count": null,
   "id": "4c936fe1-0e94-4374-82ab-2eeb47cd08ba",
   "metadata": {},
   "outputs": [],
   "source": [
    "json_file_path = 'instances_test2019.json'\n",
    "\n",
    "with open(json_file_path) as json_data:\n",
    "    data = json.load(json_data)\n",
    "\n",
    "print(data.keys())"
   ]
  },
  {
   "cell_type": "code",
   "execution_count": 31,
   "id": "1e844c19",
   "metadata": {},
   "outputs": [],
   "source": [
    "test2019_dir = 'test2019'\n",
    "\n",
    "for level in ['easy', 'medium', 'hard']:\n",
    "    level_dir = os.path.join(test2019_dir, level)\n",
    "    if not os.path.exists(level_dir):\n",
    "        os.makedirs(level_dir)\n",
    "\n",
    "# Move images to respective level folders\n",
    "for image_info in data['images']:\n",
    "    file_name = image_info['file_name']\n",
    "    level = image_info.get('level')  # Get the level ('easy', 'medium', or 'hard')\n",
    "\n",
    "    if level in ['easy', 'medium', 'hard']:\n",
    "        src = os.path.join(test2019_dir, file_name)\n",
    "        dest = os.path.join(test2019_dir, level, file_name)\n",
    "        \n",
    "        # Check if the image file exists before moving\n",
    "        if os.path.exists(src):\n",
    "            shutil.move(src, dest)\n",
    "        else:\n",
    "            print(f\"Image file {file_name} not found.\")"
   ]
  },
  {
   "cell_type": "code",
   "execution_count": 52,
   "id": "ab81992b",
   "metadata": {},
   "outputs": [
    {
     "name": "stdout",
     "output_type": "stream",
     "text": [
      "Images successfully copied to newtrain_dataset\n"
     ]
    }
   ],
   "source": [
    "import os\n",
    "import shutil\n",
    "\n",
    "# Paths to the directories\n",
    "train2019_dir = 'train2019'\n",
    "val2019_medium_dir = 'val2019/medium'\n",
    "test2019_medium_dir = 'test2019/medium'\n",
    "\n",
    "# New directory path\n",
    "new_dir = 'newtrain_dataset'\n",
    "\n",
    "# Create the new directory if it doesn't exist\n",
    "if not os.path.exists(new_dir):\n",
    "    os.makedirs(new_dir)\n",
    "\n",
    "# Function to copy files from a directory to the new directory\n",
    "def copy_images(src_dir, dest_dir):\n",
    "    for file_name in os.listdir(src_dir):\n",
    "        src_file = os.path.join(src_dir, file_name)\n",
    "        dest_file = os.path.join(dest_dir, file_name)\n",
    "        if os.path.isfile(src_file):\n",
    "            shutil.copy(src_file, dest_file)\n",
    "\n",
    "# Copy images from train2019, val2019/medium, and test2019/medium\n",
    "copy_images(train2019_dir, new_dir)\n",
    "copy_images(val2019_medium_dir, new_dir)\n",
    "copy_images(test2019_medium_dir, new_dir)\n",
    "\n",
    "print(f\"Images successfully copied to {new_dir}\")\n"
   ]
  },
  {
   "cell_type": "code",
   "execution_count": 53,
   "id": "2325c072",
   "metadata": {},
   "outputs": [
    {
     "name": "stdout",
     "output_type": "stream",
     "text": [
      "Split completed: 48365 training images and 5374 temporary images.\n"
     ]
    }
   ],
   "source": [
    "from pathlib import Path\n",
    "import os\n",
    "import shutil\n",
    "from sklearn.model_selection import train_test_split\n",
    "\n",
    "original_dataset_dir = 'singleobject'\n",
    "data_path = Path.cwd()\n",
    "\n",
    "# List all images in the original dataset directory\n",
    "all_images = os.listdir(original_dataset_dir)\n",
    "\n",
    "def fill_sub_dir(sub_dir, file_subset):\n",
    "    \"\"\"This function copies files to a specified <sub_dir>.\"\"\"\n",
    "    for file_name in file_subset:\n",
    "        # Create source and destination paths\n",
    "        src_file_path = Path(original_dataset_dir) / file_name\n",
    "        dest_file_path = data_path / sub_dir / file_name\n",
    "        # Copy the file\n",
    "        shutil.copyfile(src_file_path, dest_file_path)\n",
    "\n",
    "split_ratio_big_dataset = 0.1  # Adjust the split ratio as needed\n",
    "\n",
    "if split_ratio_big_dataset is None:\n",
    "    raise ValueError(\"`split_ratio_big_dataset` must have a value between 0 and 1.\")\n",
    "\n",
    "# Split it\n",
    "train, temp = train_test_split(all_images, test_size=split_ratio_big_dataset, random_state=3)\n",
    "\n",
    "subdirectories = {\n",
    "    \"train\": train,\n",
    "    \"temp\": temp,\n",
    "}\n",
    "\n",
    "# Create subdirectories if they don't exist\n",
    "for subdirectory in subdirectories.keys():\n",
    "    subdirectory_path = data_path / subdirectory\n",
    "    subdirectory_path.mkdir(parents=True, exist_ok=True)\n",
    "\n",
    "# Copy files to the respective subdirectories\n",
    "for sub_dir, file_subset in subdirectories.items():\n",
    "    fill_sub_dir(sub_dir, file_subset)\n",
    "\n",
    "print(f\"Split completed: {len(train)} training images and {len(temp)} temporary images.\")\n"
   ]
  },
  {
   "cell_type": "code",
   "execution_count": 54,
   "id": "0a570af9",
   "metadata": {},
   "outputs": [
    {
     "name": "stdout",
     "output_type": "stream",
     "text": [
      "Split completed: 2687 test images and 2687 val images.\n"
     ]
    }
   ],
   "source": [
    "#split test and val\n",
    "original_dataset_dir = 'temp'\n",
    "temp_images = os.listdir(original_dataset_dir)\n",
    "val, test = train_test_split(temp_images, test_size=0.5, random_state=3)\n",
    "\n",
    "subdirectories = {\n",
    "    \"val\": val,\n",
    "    \"test\": test,\n",
    "}\n",
    "\n",
    "# Create subdirectories if they don't exist\n",
    "for subdirectory in subdirectories.keys():\n",
    "    subdirectory_path = data_path / subdirectory\n",
    "    subdirectory_path.mkdir(parents=True, exist_ok=True)\n",
    "\n",
    "# Copy files to the respective subdirectories\n",
    "for sub_dir, file_subset in subdirectories.items():\n",
    "    fill_sub_dir(sub_dir, file_subset)\n",
    "\n",
    "print(f\"Split completed: {len(test)} test images and {len(val)} val images.\")\n"
   ]
  }
 ],
 "metadata": {
  "kernelspec": {
   "display_name": "Python 3 (ipykernel)",
   "language": "python",
   "name": "python3"
  },
  "language_info": {
   "codemirror_mode": {
    "name": "ipython",
    "version": 3
   },
   "file_extension": ".py",
   "mimetype": "text/x-python",
   "name": "python",
   "nbconvert_exporter": "python",
   "pygments_lexer": "ipython3",
   "version": "3.11.9"
  }
 },
 "nbformat": 4,
 "nbformat_minor": 5
}
